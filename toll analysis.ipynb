{
 "cells": [
  {
   "cell_type": "code",
   "execution_count": 1,
   "id": "0783c316",
   "metadata": {},
   "outputs": [],
   "source": [
    "import pandas as pd\n",
    "import seaborn as sns \n",
    "import matplotlib.ticker as mtick  \n",
    "import matplotlib.pyplot as plt\n",
    "%matplotlib inline"
   ]
  },
  {
   "cell_type": "code",
   "execution_count": 2,
   "id": "6a803bae",
   "metadata": {},
   "outputs": [],
   "source": [
    "df = pd.read_csv(\"final_toll.csv\")\n",
    "\n"
   ]
  },
  {
   "cell_type": "code",
   "execution_count": 3,
   "id": "accea8c5",
   "metadata": {},
   "outputs": [
    {
     "data": {
      "text/html": [
       "<div>\n",
       "<style scoped>\n",
       "    .dataframe tbody tr th:only-of-type {\n",
       "        vertical-align: middle;\n",
       "    }\n",
       "\n",
       "    .dataframe tbody tr th {\n",
       "        vertical-align: top;\n",
       "    }\n",
       "\n",
       "    .dataframe thead th {\n",
       "        text-align: right;\n",
       "    }\n",
       "</style>\n",
       "<table border=\"1\" class=\"dataframe\">\n",
       "  <thead>\n",
       "    <tr style=\"text-align: right;\">\n",
       "      <th></th>\n",
       "      <th>Unnamed: 0</th>\n",
       "      <th>id</th>\n",
       "      <th>Date</th>\n",
       "      <th>time_stamp</th>\n",
       "      <th>City</th>\n",
       "      <th>Fees_one_way</th>\n",
       "      <th>traf</th>\n",
       "      <th>Vehicle</th>\n",
       "      <th>Number_of_Accidents</th>\n",
       "      <th>Number_of_Vehicles</th>\n",
       "      <th>Season</th>\n",
       "      <th>toll</th>\n",
       "      <th>operational cost</th>\n",
       "      <th>maintainence cost</th>\n",
       "    </tr>\n",
       "  </thead>\n",
       "  <tbody>\n",
       "    <tr>\n",
       "      <th>0</th>\n",
       "      <td>0</td>\n",
       "      <td>37</td>\n",
       "      <td>01/08/2023</td>\n",
       "      <td>08:31:14</td>\n",
       "      <td>city B</td>\n",
       "      <td>200</td>\n",
       "      <td>765</td>\n",
       "      <td>Truck</td>\n",
       "      <td>4</td>\n",
       "      <td>223</td>\n",
       "      <td>festival</td>\n",
       "      <td>t1</td>\n",
       "      <td>8000</td>\n",
       "      <td>3785</td>\n",
       "    </tr>\n",
       "    <tr>\n",
       "      <th>1</th>\n",
       "      <td>1</td>\n",
       "      <td>44</td>\n",
       "      <td>01/08/2023</td>\n",
       "      <td>01:31:14</td>\n",
       "      <td>city B</td>\n",
       "      <td>50</td>\n",
       "      <td>765</td>\n",
       "      <td>Bike</td>\n",
       "      <td>1</td>\n",
       "      <td>542</td>\n",
       "      <td>Summer Season</td>\n",
       "      <td>t1</td>\n",
       "      <td>8000</td>\n",
       "      <td>2849</td>\n",
       "    </tr>\n",
       "    <tr>\n",
       "      <th>2</th>\n",
       "      <td>2</td>\n",
       "      <td>33</td>\n",
       "      <td>01/09/2023</td>\n",
       "      <td>12:31:14</td>\n",
       "      <td>city B</td>\n",
       "      <td>150</td>\n",
       "      <td>676</td>\n",
       "      <td>Car</td>\n",
       "      <td>1</td>\n",
       "      <td>676</td>\n",
       "      <td>Rainy Season</td>\n",
       "      <td>t1</td>\n",
       "      <td>8000</td>\n",
       "      <td>2025</td>\n",
       "    </tr>\n",
       "    <tr>\n",
       "      <th>3</th>\n",
       "      <td>3</td>\n",
       "      <td>49</td>\n",
       "      <td>04/04/2023</td>\n",
       "      <td>06:31:14</td>\n",
       "      <td>city B</td>\n",
       "      <td>150</td>\n",
       "      <td>652</td>\n",
       "      <td>Bus</td>\n",
       "      <td>1</td>\n",
       "      <td>652</td>\n",
       "      <td>Summer Season</td>\n",
       "      <td>t1</td>\n",
       "      <td>8000</td>\n",
       "      <td>3424</td>\n",
       "    </tr>\n",
       "  </tbody>\n",
       "</table>\n",
       "</div>"
      ],
      "text/plain": [
       "   Unnamed: 0  id        Date time_stamp    City  Fees_one_way  traf Vehicle  \\\n",
       "0           0  37  01/08/2023   08:31:14  city B           200   765   Truck   \n",
       "1           1  44  01/08/2023   01:31:14  city B            50   765    Bike   \n",
       "2           2  33  01/09/2023   12:31:14  city B           150   676     Car   \n",
       "3           3  49  04/04/2023   06:31:14  city B           150   652     Bus   \n",
       "\n",
       "   Number_of_Accidents  Number_of_Vehicles         Season toll  \\\n",
       "0                    4                 223       festival   t1   \n",
       "1                    1                 542  Summer Season   t1   \n",
       "2                    1                 676   Rainy Season   t1   \n",
       "3                    1                 652  Summer Season   t1   \n",
       "\n",
       "   operational cost  maintainence cost  \n",
       "0              8000               3785  \n",
       "1              8000               2849  \n",
       "2              8000               2025  \n",
       "3              8000               3424  "
      ]
     },
     "execution_count": 3,
     "metadata": {},
     "output_type": "execute_result"
    }
   ],
   "source": [
    "df.head(4)"
   ]
  },
  {
   "cell_type": "code",
   "execution_count": 4,
   "id": "0e361935",
   "metadata": {},
   "outputs": [
    {
     "name": "stdout",
     "output_type": "stream",
     "text": [
      "<class 'pandas.core.frame.DataFrame'>\n",
      "RangeIndex: 99 entries, 0 to 98\n",
      "Data columns (total 14 columns):\n",
      " #   Column               Non-Null Count  Dtype \n",
      "---  ------               --------------  ----- \n",
      " 0   Unnamed: 0           99 non-null     int64 \n",
      " 1   id                   99 non-null     int64 \n",
      " 2   Date                 99 non-null     object\n",
      " 3   time_stamp           99 non-null     object\n",
      " 4   City                 99 non-null     object\n",
      " 5   Fees_one_way         99 non-null     int64 \n",
      " 6   traf                 99 non-null     int64 \n",
      " 7   Vehicle              99 non-null     object\n",
      " 8   Number_of_Accidents  99 non-null     int64 \n",
      " 9   Number_of_Vehicles   99 non-null     int64 \n",
      " 10  Season               99 non-null     object\n",
      " 11  toll                 99 non-null     object\n",
      " 12  operational cost     99 non-null     int64 \n",
      " 13  maintainence cost    99 non-null     int64 \n",
      "dtypes: int64(8), object(6)\n",
      "memory usage: 11.0+ KB\n"
     ]
    }
   ],
   "source": [
    "df.info()"
   ]
  },
  {
   "cell_type": "code",
   "execution_count": 5,
   "id": "ae588937",
   "metadata": {},
   "outputs": [],
   "source": [
    "df['Date'] = pd.to_datetime(df['Date'])"
   ]
  },
  {
   "cell_type": "code",
   "execution_count": 6,
   "id": "2a1155d9",
   "metadata": {},
   "outputs": [],
   "source": [
    "df['month'] = df['Date'].dt.month"
   ]
  },
  {
   "cell_type": "code",
   "execution_count": 7,
   "id": "ab062f4e",
   "metadata": {},
   "outputs": [
    {
     "data": {
      "text/html": [
       "<div>\n",
       "<style scoped>\n",
       "    .dataframe tbody tr th:only-of-type {\n",
       "        vertical-align: middle;\n",
       "    }\n",
       "\n",
       "    .dataframe tbody tr th {\n",
       "        vertical-align: top;\n",
       "    }\n",
       "\n",
       "    .dataframe thead th {\n",
       "        text-align: right;\n",
       "    }\n",
       "</style>\n",
       "<table border=\"1\" class=\"dataframe\">\n",
       "  <thead>\n",
       "    <tr style=\"text-align: right;\">\n",
       "      <th></th>\n",
       "      <th>Unnamed: 0</th>\n",
       "      <th>id</th>\n",
       "      <th>Date</th>\n",
       "      <th>time_stamp</th>\n",
       "      <th>City</th>\n",
       "      <th>Fees_one_way</th>\n",
       "      <th>traf</th>\n",
       "      <th>Vehicle</th>\n",
       "      <th>Number_of_Accidents</th>\n",
       "      <th>Number_of_Vehicles</th>\n",
       "      <th>Season</th>\n",
       "      <th>toll</th>\n",
       "      <th>operational cost</th>\n",
       "      <th>maintainence cost</th>\n",
       "      <th>month</th>\n",
       "    </tr>\n",
       "  </thead>\n",
       "  <tbody>\n",
       "    <tr>\n",
       "      <th>0</th>\n",
       "      <td>0</td>\n",
       "      <td>37</td>\n",
       "      <td>2023-01-08</td>\n",
       "      <td>08:31:14</td>\n",
       "      <td>city B</td>\n",
       "      <td>200</td>\n",
       "      <td>765</td>\n",
       "      <td>Truck</td>\n",
       "      <td>4</td>\n",
       "      <td>223</td>\n",
       "      <td>festival</td>\n",
       "      <td>t1</td>\n",
       "      <td>8000</td>\n",
       "      <td>3785</td>\n",
       "      <td>1</td>\n",
       "    </tr>\n",
       "    <tr>\n",
       "      <th>1</th>\n",
       "      <td>1</td>\n",
       "      <td>44</td>\n",
       "      <td>2023-01-08</td>\n",
       "      <td>01:31:14</td>\n",
       "      <td>city B</td>\n",
       "      <td>50</td>\n",
       "      <td>765</td>\n",
       "      <td>Bike</td>\n",
       "      <td>1</td>\n",
       "      <td>542</td>\n",
       "      <td>Summer Season</td>\n",
       "      <td>t1</td>\n",
       "      <td>8000</td>\n",
       "      <td>2849</td>\n",
       "      <td>1</td>\n",
       "    </tr>\n",
       "  </tbody>\n",
       "</table>\n",
       "</div>"
      ],
      "text/plain": [
       "   Unnamed: 0  id       Date time_stamp    City  Fees_one_way  traf Vehicle  \\\n",
       "0           0  37 2023-01-08   08:31:14  city B           200   765   Truck   \n",
       "1           1  44 2023-01-08   01:31:14  city B            50   765    Bike   \n",
       "\n",
       "   Number_of_Accidents  Number_of_Vehicles         Season toll  \\\n",
       "0                    4                 223       festival   t1   \n",
       "1                    1                 542  Summer Season   t1   \n",
       "\n",
       "   operational cost  maintainence cost  month  \n",
       "0              8000               3785      1  \n",
       "1              8000               2849      1  "
      ]
     },
     "execution_count": 7,
     "metadata": {},
     "output_type": "execute_result"
    }
   ],
   "source": [
    "df.head(2)"
   ]
  },
  {
   "cell_type": "markdown",
   "id": "ad6bbb9b",
   "metadata": {},
   "source": [
    "# how would you analyze the traffic flow\n",
    "data for nearby cities to predict the vehicle distribution on the new highway?"
   ]
  },
  {
   "cell_type": "code",
   "execution_count": 8,
   "id": "753abfbb",
   "metadata": {},
   "outputs": [
    {
     "data": {
      "text/html": [
       "<div>\n",
       "<style scoped>\n",
       "    .dataframe tbody tr th:only-of-type {\n",
       "        vertical-align: middle;\n",
       "    }\n",
       "\n",
       "    .dataframe tbody tr th {\n",
       "        vertical-align: top;\n",
       "    }\n",
       "\n",
       "    .dataframe thead th {\n",
       "        text-align: right;\n",
       "    }\n",
       "</style>\n",
       "<table border=\"1\" class=\"dataframe\">\n",
       "  <thead>\n",
       "    <tr style=\"text-align: right;\">\n",
       "      <th></th>\n",
       "      <th>City</th>\n",
       "      <th>traf</th>\n",
       "    </tr>\n",
       "  </thead>\n",
       "  <tbody>\n",
       "    <tr>\n",
       "      <th>3</th>\n",
       "      <td>city D</td>\n",
       "      <td>19694</td>\n",
       "    </tr>\n",
       "    <tr>\n",
       "      <th>2</th>\n",
       "      <td>city C</td>\n",
       "      <td>18430</td>\n",
       "    </tr>\n",
       "    <tr>\n",
       "      <th>1</th>\n",
       "      <td>city B</td>\n",
       "      <td>12868</td>\n",
       "    </tr>\n",
       "    <tr>\n",
       "      <th>0</th>\n",
       "      <td>city A</td>\n",
       "      <td>10661</td>\n",
       "    </tr>\n",
       "  </tbody>\n",
       "</table>\n",
       "</div>"
      ],
      "text/plain": [
       "     City   traf\n",
       "3  city D  19694\n",
       "2  city C  18430\n",
       "1  city B  12868\n",
       "0  city A  10661"
      ]
     },
     "execution_count": 8,
     "metadata": {},
     "output_type": "execute_result"
    }
   ],
   "source": [
    "df.groupby('City')['traf'].sum().reset_index().sort_values(by='traf', ascending=False)"
   ]
  },
  {
   "cell_type": "code",
   "execution_count": 9,
   "id": "eda6bc78",
   "metadata": {},
   "outputs": [],
   "source": [
    "d = df.groupby('City')['traf'].sum().reset_index()"
   ]
  },
  {
   "cell_type": "code",
   "execution_count": 10,
   "id": "6e0d03e0-2f45-416a-9d75-320c9efe9e95",
   "metadata": {},
   "outputs": [
    {
     "name": "stderr",
     "output_type": "stream",
     "text": [
      "C:\\Users\\lnxhunt\\anaconda3\\lib\\site-packages\\seaborn\\_oldcore.py:1498: FutureWarning: is_categorical_dtype is deprecated and will be removed in a future version. Use isinstance(dtype, CategoricalDtype) instead\n",
      "  if pd.api.types.is_categorical_dtype(vector):\n",
      "C:\\Users\\lnxhunt\\anaconda3\\lib\\site-packages\\seaborn\\_oldcore.py:1498: FutureWarning: is_categorical_dtype is deprecated and will be removed in a future version. Use isinstance(dtype, CategoricalDtype) instead\n",
      "  if pd.api.types.is_categorical_dtype(vector):\n",
      "C:\\Users\\lnxhunt\\anaconda3\\lib\\site-packages\\seaborn\\_oldcore.py:1498: FutureWarning: is_categorical_dtype is deprecated and will be removed in a future version. Use isinstance(dtype, CategoricalDtype) instead\n",
      "  if pd.api.types.is_categorical_dtype(vector):\n"
     ]
    },
    {
     "data": {
      "image/png": "[encoded data removed]",
      "text/plain": [
       "<Figure size 640x480 with 1 Axes>"
      ]
     },
     "metadata": {},
     "output_type": "display_data"
    }
   ],
   "source": [
    "a=sns.barplot(data=d,x='City',y='traf')\n",
    "for i in a.containers:\n",
    "    a.bar_label(i)"
   ]
  },
  {
   "cell_type": "markdown",
   "id": "b115e95c",
   "metadata": {},
   "source": [
    "# With the given toll locations, how would you create a graph in Python to \n",
    "represent the expected vehicle flow at each toll booth over a 24-hour period?"
   ]
  },
  {
   "cell_type": "code",
   "execution_count": 11,
   "id": "57c66723",
   "metadata": {},
   "outputs": [
    {
     "name": "stderr",
     "output_type": "stream",
     "text": [
      "C:\\Users\\lnxhunt\\AppData\\Local\\Temp\\ipykernel_976\\2442566844.py:1: UserWarning: Could not infer format, so each element will be parsed individually, falling back to `dateutil`. To ensure parsing is consistent and as-expected, please specify a format.\n",
      "  df['time_stamp'] = pd.to_datetime(df['time_stamp'], errors='coerce')\n"
     ]
    }
   ],
   "source": [
    "df['time_stamp'] = pd.to_datetime(df['time_stamp'], errors='coerce')"
   ]
  },
  {
   "cell_type": "code",
   "execution_count": 12,
   "id": "021dc9ad",
   "metadata": {},
   "outputs": [],
   "source": [
    "df = df.dropna()"
   ]
  },
  {
   "cell_type": "code",
   "execution_count": 13,
   "id": "0bfe12b9",
   "metadata": {},
   "outputs": [],
   "source": [
    "df['hour'] = df['time_stamp'].dt.hour"
   ]
  },
  {
   "cell_type": "code",
   "execution_count": 14,
   "id": "93460983",
   "metadata": {
    "scrolled": true
   },
   "outputs": [
    {
     "data": {
      "text/html": [
       "<div>\n",
       "<style scoped>\n",
       "    .dataframe tbody tr th:only-of-type {\n",
       "        vertical-align: middle;\n",
       "    }\n",
       "\n",
       "    .dataframe tbody tr th {\n",
       "        vertical-align: top;\n",
       "    }\n",
       "\n",
       "    .dataframe thead th {\n",
       "        text-align: right;\n",
       "    }\n",
       "</style>\n",
       "<table border=\"1\" class=\"dataframe\">\n",
       "  <thead>\n",
       "    <tr style=\"text-align: right;\">\n",
       "      <th></th>\n",
       "      <th>toll</th>\n",
       "      <th>Vehicle</th>\n",
       "      <th>hour</th>\n",
       "    </tr>\n",
       "  </thead>\n",
       "  <tbody>\n",
       "    <tr>\n",
       "      <th>0</th>\n",
       "      <td>t1</td>\n",
       "      <td>Bike</td>\n",
       "      <td>8</td>\n",
       "    </tr>\n",
       "    <tr>\n",
       "      <th>1</th>\n",
       "      <td>t1</td>\n",
       "      <td>Bus</td>\n",
       "      <td>4</td>\n",
       "    </tr>\n",
       "    <tr>\n",
       "      <th>2</th>\n",
       "      <td>t1</td>\n",
       "      <td>Car</td>\n",
       "      <td>4</td>\n",
       "    </tr>\n",
       "    <tr>\n",
       "      <th>3</th>\n",
       "      <td>t1</td>\n",
       "      <td>Truck</td>\n",
       "      <td>5</td>\n",
       "    </tr>\n",
       "    <tr>\n",
       "      <th>4</th>\n",
       "      <td>t2</td>\n",
       "      <td>Bike</td>\n",
       "      <td>6</td>\n",
       "    </tr>\n",
       "    <tr>\n",
       "      <th>5</th>\n",
       "      <td>t2</td>\n",
       "      <td>Bus</td>\n",
       "      <td>5</td>\n",
       "    </tr>\n",
       "    <tr>\n",
       "      <th>6</th>\n",
       "      <td>t2</td>\n",
       "      <td>Car</td>\n",
       "      <td>7</td>\n",
       "    </tr>\n",
       "    <tr>\n",
       "      <th>7</th>\n",
       "      <td>t2</td>\n",
       "      <td>Truck</td>\n",
       "      <td>12</td>\n",
       "    </tr>\n",
       "    <tr>\n",
       "      <th>8</th>\n",
       "      <td>t3</td>\n",
       "      <td>Bike</td>\n",
       "      <td>2</td>\n",
       "    </tr>\n",
       "    <tr>\n",
       "      <th>9</th>\n",
       "      <td>t3</td>\n",
       "      <td>Bus</td>\n",
       "      <td>2</td>\n",
       "    </tr>\n",
       "    <tr>\n",
       "      <th>10</th>\n",
       "      <td>t3</td>\n",
       "      <td>Car</td>\n",
       "      <td>7</td>\n",
       "    </tr>\n",
       "    <tr>\n",
       "      <th>11</th>\n",
       "      <td>t3</td>\n",
       "      <td>Truck</td>\n",
       "      <td>5</td>\n",
       "    </tr>\n",
       "    <tr>\n",
       "      <th>12</th>\n",
       "      <td>t4</td>\n",
       "      <td>Bike</td>\n",
       "      <td>5</td>\n",
       "    </tr>\n",
       "    <tr>\n",
       "      <th>13</th>\n",
       "      <td>t4</td>\n",
       "      <td>Bus</td>\n",
       "      <td>6</td>\n",
       "    </tr>\n",
       "    <tr>\n",
       "      <th>14</th>\n",
       "      <td>t4</td>\n",
       "      <td>Car</td>\n",
       "      <td>9</td>\n",
       "    </tr>\n",
       "    <tr>\n",
       "      <th>15</th>\n",
       "      <td>t4</td>\n",
       "      <td>Truck</td>\n",
       "      <td>11</td>\n",
       "    </tr>\n",
       "  </tbody>\n",
       "</table>\n",
       "</div>"
      ],
      "text/plain": [
       "   toll Vehicle  hour\n",
       "0    t1    Bike     8\n",
       "1    t1     Bus     4\n",
       "2    t1     Car     4\n",
       "3    t1   Truck     5\n",
       "4    t2    Bike     6\n",
       "5    t2     Bus     5\n",
       "6    t2     Car     7\n",
       "7    t2   Truck    12\n",
       "8    t3    Bike     2\n",
       "9    t3     Bus     2\n",
       "10   t3     Car     7\n",
       "11   t3   Truck     5\n",
       "12   t4    Bike     5\n",
       "13   t4     Bus     6\n",
       "14   t4     Car     9\n",
       "15   t4   Truck    11"
      ]
     },
     "execution_count": 14,
     "metadata": {},
     "output_type": "execute_result"
    }
   ],
   "source": [
    "l=df.groupby(['toll','Vehicle'])['hour'].count().reset_index()\n",
    "l"
   ]
  },
  {
   "cell_type": "code",
   "execution_count": 15,
   "id": "56b32e87",
   "metadata": {},
   "outputs": [
    {
     "name": "stderr",
     "output_type": "stream",
     "text": [
      "C:\\Users\\lnxhunt\\anaconda3\\lib\\site-packages\\seaborn\\_oldcore.py:1498: FutureWarning: is_categorical_dtype is deprecated and will be removed in a future version. Use isinstance(dtype, CategoricalDtype) instead\n",
      "  if pd.api.types.is_categorical_dtype(vector):\n",
      "C:\\Users\\lnxhunt\\anaconda3\\lib\\site-packages\\seaborn\\_oldcore.py:1498: FutureWarning: is_categorical_dtype is deprecated and will be removed in a future version. Use isinstance(dtype, CategoricalDtype) instead\n",
      "  if pd.api.types.is_categorical_dtype(vector):\n",
      "C:\\Users\\lnxhunt\\anaconda3\\lib\\site-packages\\seaborn\\_oldcore.py:1498: FutureWarning: is_categorical_dtype is deprecated and will be removed in a future version. Use isinstance(dtype, CategoricalDtype) instead\n",
      "  if pd.api.types.is_categorical_dtype(vector):\n",
      "C:\\Users\\lnxhunt\\anaconda3\\lib\\site-packages\\seaborn\\_oldcore.py:1498: FutureWarning: is_categorical_dtype is deprecated and will be removed in a future version. Use isinstance(dtype, CategoricalDtype) instead\n",
      "  if pd.api.types.is_categorical_dtype(vector):\n",
      "C:\\Users\\lnxhunt\\anaconda3\\lib\\site-packages\\seaborn\\_oldcore.py:1498: FutureWarning: is_categorical_dtype is deprecated and will be removed in a future version. Use isinstance(dtype, CategoricalDtype) instead\n",
      "  if pd.api.types.is_categorical_dtype(vector):\n",
      "C:\\Users\\lnxhunt\\anaconda3\\lib\\site-packages\\seaborn\\_oldcore.py:1498: FutureWarning: is_categorical_dtype is deprecated and will be removed in a future version. Use isinstance(dtype, CategoricalDtype) instead\n",
      "  if pd.api.types.is_categorical_dtype(vector):\n",
      "C:\\Users\\lnxhunt\\anaconda3\\lib\\site-packages\\seaborn\\_oldcore.py:1498: FutureWarning: is_categorical_dtype is deprecated and will be removed in a future version. Use isinstance(dtype, CategoricalDtype) instead\n",
      "  if pd.api.types.is_categorical_dtype(vector):\n",
      "C:\\Users\\lnxhunt\\anaconda3\\lib\\site-packages\\seaborn\\_oldcore.py:1498: FutureWarning: is_categorical_dtype is deprecated and will be removed in a future version. Use isinstance(dtype, CategoricalDtype) instead\n",
      "  if pd.api.types.is_categorical_dtype(vector):\n",
      "C:\\Users\\lnxhunt\\anaconda3\\lib\\site-packages\\seaborn\\_oldcore.py:1498: FutureWarning: is_categorical_dtype is deprecated and will be removed in a future version. Use isinstance(dtype, CategoricalDtype) instead\n",
      "  if pd.api.types.is_categorical_dtype(vector):\n",
      "C:\\Users\\lnxhunt\\anaconda3\\lib\\site-packages\\seaborn\\_oldcore.py:1498: FutureWarning: is_categorical_dtype is deprecated and will be removed in a future version. Use isinstance(dtype, CategoricalDtype) instead\n",
      "  if pd.api.types.is_categorical_dtype(vector):\n",
      "C:\\Users\\lnxhunt\\anaconda3\\lib\\site-packages\\seaborn\\_oldcore.py:1498: FutureWarning: is_categorical_dtype is deprecated and will be removed in a future version. Use isinstance(dtype, CategoricalDtype) instead\n",
      "  if pd.api.types.is_categorical_dtype(vector):\n",
      "C:\\Users\\lnxhunt\\anaconda3\\lib\\site-packages\\seaborn\\_oldcore.py:1498: FutureWarning: is_categorical_dtype is deprecated and will be removed in a future version. Use isinstance(dtype, CategoricalDtype) instead\n",
      "  if pd.api.types.is_categorical_dtype(vector):\n",
      "C:\\Users\\lnxhunt\\anaconda3\\lib\\site-packages\\seaborn\\_oldcore.py:1498: FutureWarning: is_categorical_dtype is deprecated and will be removed in a future version. Use isinstance(dtype, CategoricalDtype) instead\n",
      "  if pd.api.types.is_categorical_dtype(vector):\n",
      "C:\\Users\\lnxhunt\\anaconda3\\lib\\site-packages\\seaborn\\_oldcore.py:1119: FutureWarning: use_inf_as_na option is deprecated and will be removed in a future version. Convert inf values to NaN before operating instead.\n",
      "  with pd.option_context('mode.use_inf_as_na', True):\n",
      "C:\\Users\\lnxhunt\\anaconda3\\lib\\site-packages\\seaborn\\_oldcore.py:1119: FutureWarning: use_inf_as_na option is deprecated and will be removed in a future version. Convert inf values to NaN before operating instead.\n",
      "  with pd.option_context('mode.use_inf_as_na', True):\n"
     ]
    },
    {
     "data": {
      "text/plain": [
       "<seaborn.axisgrid.FacetGrid at 0x25b06007970>"
      ]
     },
     "execution_count": 15,
     "metadata": {},
     "output_type": "execute_result"
    },
    {
     "data": {
      "image/png": "[encoded data removed]",
      "text/plain": [
       "<Figure size 586.875x500 with 1 Axes>"
      ]
     },
     "metadata": {},
     "output_type": "display_data"
    }
   ],
   "source": [
    "sns.relplot(\n",
    "    data=l, kind=\"line\",\n",
    "    x=\"toll\", y=\"hour\",\n",
    "    hue=\"Vehicle\",\n",
    ")"
   ]
  },
  {
   "cell_type": "code",
   "execution_count": null,
   "id": "e4a5be7d",
   "metadata": {},
   "outputs": [],
   "source": []
  },
  {
   "cell_type": "markdown",
   "id": "fd1e752d",
   "metadata": {},
   "source": [
    "# How would you assess the impact of seasonal variations,\n",
    "such as monsoons or festivals, on the traffic flow and toll revenues using Python?"
   ]
  },
  {
   "cell_type": "code",
   "execution_count": 16,
   "id": "6dc3d885",
   "metadata": {},
   "outputs": [
    {
     "data": {
      "text/html": [
       "<div>\n",
       "<style scoped>\n",
       "    .dataframe tbody tr th:only-of-type {\n",
       "        vertical-align: middle;\n",
       "    }\n",
       "\n",
       "    .dataframe tbody tr th {\n",
       "        vertical-align: top;\n",
       "    }\n",
       "\n",
       "    .dataframe thead th {\n",
       "        text-align: right;\n",
       "    }\n",
       "</style>\n",
       "<table border=\"1\" class=\"dataframe\">\n",
       "  <thead>\n",
       "    <tr style=\"text-align: right;\">\n",
       "      <th></th>\n",
       "      <th>Unnamed: 0</th>\n",
       "      <th>id</th>\n",
       "      <th>Date</th>\n",
       "      <th>time_stamp</th>\n",
       "      <th>City</th>\n",
       "      <th>Fees_one_way</th>\n",
       "      <th>traf</th>\n",
       "      <th>Vehicle</th>\n",
       "      <th>Number_of_Accidents</th>\n",
       "      <th>Number_of_Vehicles</th>\n",
       "      <th>Season</th>\n",
       "      <th>toll</th>\n",
       "      <th>operational cost</th>\n",
       "      <th>maintainence cost</th>\n",
       "      <th>month</th>\n",
       "      <th>hour</th>\n",
       "    </tr>\n",
       "  </thead>\n",
       "  <tbody>\n",
       "    <tr>\n",
       "      <th>0</th>\n",
       "      <td>0</td>\n",
       "      <td>37</td>\n",
       "      <td>2023-01-08</td>\n",
       "      <td>2023-11-11 08:31:14</td>\n",
       "      <td>city B</td>\n",
       "      <td>200</td>\n",
       "      <td>765</td>\n",
       "      <td>Truck</td>\n",
       "      <td>4</td>\n",
       "      <td>223</td>\n",
       "      <td>festival</td>\n",
       "      <td>t1</td>\n",
       "      <td>8000</td>\n",
       "      <td>3785</td>\n",
       "      <td>1</td>\n",
       "      <td>8</td>\n",
       "    </tr>\n",
       "    <tr>\n",
       "      <th>1</th>\n",
       "      <td>1</td>\n",
       "      <td>44</td>\n",
       "      <td>2023-01-08</td>\n",
       "      <td>2023-11-11 01:31:14</td>\n",
       "      <td>city B</td>\n",
       "      <td>50</td>\n",
       "      <td>765</td>\n",
       "      <td>Bike</td>\n",
       "      <td>1</td>\n",
       "      <td>542</td>\n",
       "      <td>Summer Season</td>\n",
       "      <td>t1</td>\n",
       "      <td>8000</td>\n",
       "      <td>2849</td>\n",
       "      <td>1</td>\n",
       "      <td>1</td>\n",
       "    </tr>\n",
       "    <tr>\n",
       "      <th>2</th>\n",
       "      <td>2</td>\n",
       "      <td>33</td>\n",
       "      <td>2023-01-09</td>\n",
       "      <td>2023-11-11 12:31:14</td>\n",
       "      <td>city B</td>\n",
       "      <td>150</td>\n",
       "      <td>676</td>\n",
       "      <td>Car</td>\n",
       "      <td>1</td>\n",
       "      <td>676</td>\n",
       "      <td>Rainy Season</td>\n",
       "      <td>t1</td>\n",
       "      <td>8000</td>\n",
       "      <td>2025</td>\n",
       "      <td>1</td>\n",
       "      <td>12</td>\n",
       "    </tr>\n",
       "    <tr>\n",
       "      <th>3</th>\n",
       "      <td>3</td>\n",
       "      <td>49</td>\n",
       "      <td>2023-04-04</td>\n",
       "      <td>2023-11-11 06:31:14</td>\n",
       "      <td>city B</td>\n",
       "      <td>150</td>\n",
       "      <td>652</td>\n",
       "      <td>Bus</td>\n",
       "      <td>1</td>\n",
       "      <td>652</td>\n",
       "      <td>Summer Season</td>\n",
       "      <td>t1</td>\n",
       "      <td>8000</td>\n",
       "      <td>3424</td>\n",
       "      <td>4</td>\n",
       "      <td>6</td>\n",
       "    </tr>\n",
       "  </tbody>\n",
       "</table>\n",
       "</div>"
      ],
      "text/plain": [
       "   Unnamed: 0  id       Date          time_stamp    City  Fees_one_way  traf  \\\n",
       "0           0  37 2023-01-08 2023-11-11 08:31:14  city B           200   765   \n",
       "1           1  44 2023-01-08 2023-11-11 01:31:14  city B            50   765   \n",
       "2           2  33 2023-01-09 2023-11-11 12:31:14  city B           150   676   \n",
       "3           3  49 2023-04-04 2023-11-11 06:31:14  city B           150   652   \n",
       "\n",
       "  Vehicle  Number_of_Accidents  Number_of_Vehicles         Season toll  \\\n",
       "0   Truck                    4                 223       festival   t1   \n",
       "1    Bike                    1                 542  Summer Season   t1   \n",
       "2     Car                    1                 676   Rainy Season   t1   \n",
       "3     Bus                    1                 652  Summer Season   t1   \n",
       "\n",
       "   operational cost  maintainence cost  month  hour  \n",
       "0              8000               3785      1     8  \n",
       "1              8000               2849      1     1  \n",
       "2              8000               2025      1    12  \n",
       "3              8000               3424      4     6  "
      ]
     },
     "execution_count": 16,
     "metadata": {},
     "output_type": "execute_result"
    }
   ],
   "source": [
    "df.head(4)"
   ]
  },
  {
   "cell_type": "code",
   "execution_count": 17,
   "id": "3fc2e137",
   "metadata": {},
   "outputs": [],
   "source": [
    "import numpy as np"
   ]
  },
  {
   "cell_type": "code",
   "execution_count": 18,
   "id": "43b82561",
   "metadata": {},
   "outputs": [],
   "source": [
    "\n",
    "df['revenu'] = np.multiply(df['Fees_one_way'], df['Number_of_Vehicles'])\n"
   ]
  },
  {
   "cell_type": "code",
   "execution_count": 19,
   "id": "4e231049",
   "metadata": {},
   "outputs": [
    {
     "data": {
      "text/html": [
       "<div>\n",
       "<style scoped>\n",
       "    .dataframe tbody tr th:only-of-type {\n",
       "        vertical-align: middle;\n",
       "    }\n",
       "\n",
       "    .dataframe tbody tr th {\n",
       "        vertical-align: top;\n",
       "    }\n",
       "\n",
       "    .dataframe thead th {\n",
       "        text-align: right;\n",
       "    }\n",
       "</style>\n",
       "<table border=\"1\" class=\"dataframe\">\n",
       "  <thead>\n",
       "    <tr style=\"text-align: right;\">\n",
       "      <th></th>\n",
       "      <th>Unnamed: 0</th>\n",
       "      <th>id</th>\n",
       "      <th>Date</th>\n",
       "      <th>time_stamp</th>\n",
       "      <th>City</th>\n",
       "      <th>Fees_one_way</th>\n",
       "      <th>traf</th>\n",
       "      <th>Vehicle</th>\n",
       "      <th>Number_of_Accidents</th>\n",
       "      <th>Number_of_Vehicles</th>\n",
       "      <th>Season</th>\n",
       "      <th>toll</th>\n",
       "      <th>operational cost</th>\n",
       "      <th>maintainence cost</th>\n",
       "      <th>month</th>\n",
       "      <th>hour</th>\n",
       "      <th>revenu</th>\n",
       "    </tr>\n",
       "  </thead>\n",
       "  <tbody>\n",
       "    <tr>\n",
       "      <th>0</th>\n",
       "      <td>0</td>\n",
       "      <td>37</td>\n",
       "      <td>2023-01-08</td>\n",
       "      <td>2023-11-11 08:31:14</td>\n",
       "      <td>city B</td>\n",
       "      <td>200</td>\n",
       "      <td>765</td>\n",
       "      <td>Truck</td>\n",
       "      <td>4</td>\n",
       "      <td>223</td>\n",
       "      <td>festival</td>\n",
       "      <td>t1</td>\n",
       "      <td>8000</td>\n",
       "      <td>3785</td>\n",
       "      <td>1</td>\n",
       "      <td>8</td>\n",
       "      <td>44600</td>\n",
       "    </tr>\n",
       "    <tr>\n",
       "      <th>1</th>\n",
       "      <td>1</td>\n",
       "      <td>44</td>\n",
       "      <td>2023-01-08</td>\n",
       "      <td>2023-11-11 01:31:14</td>\n",
       "      <td>city B</td>\n",
       "      <td>50</td>\n",
       "      <td>765</td>\n",
       "      <td>Bike</td>\n",
       "      <td>1</td>\n",
       "      <td>542</td>\n",
       "      <td>Summer Season</td>\n",
       "      <td>t1</td>\n",
       "      <td>8000</td>\n",
       "      <td>2849</td>\n",
       "      <td>1</td>\n",
       "      <td>1</td>\n",
       "      <td>27100</td>\n",
       "    </tr>\n",
       "    <tr>\n",
       "      <th>2</th>\n",
       "      <td>2</td>\n",
       "      <td>33</td>\n",
       "      <td>2023-01-09</td>\n",
       "      <td>2023-11-11 12:31:14</td>\n",
       "      <td>city B</td>\n",
       "      <td>150</td>\n",
       "      <td>676</td>\n",
       "      <td>Car</td>\n",
       "      <td>1</td>\n",
       "      <td>676</td>\n",
       "      <td>Rainy Season</td>\n",
       "      <td>t1</td>\n",
       "      <td>8000</td>\n",
       "      <td>2025</td>\n",
       "      <td>1</td>\n",
       "      <td>12</td>\n",
       "      <td>101400</td>\n",
       "    </tr>\n",
       "    <tr>\n",
       "      <th>3</th>\n",
       "      <td>3</td>\n",
       "      <td>49</td>\n",
       "      <td>2023-04-04</td>\n",
       "      <td>2023-11-11 06:31:14</td>\n",
       "      <td>city B</td>\n",
       "      <td>150</td>\n",
       "      <td>652</td>\n",
       "      <td>Bus</td>\n",
       "      <td>1</td>\n",
       "      <td>652</td>\n",
       "      <td>Summer Season</td>\n",
       "      <td>t1</td>\n",
       "      <td>8000</td>\n",
       "      <td>3424</td>\n",
       "      <td>4</td>\n",
       "      <td>6</td>\n",
       "      <td>97800</td>\n",
       "    </tr>\n",
       "  </tbody>\n",
       "</table>\n",
       "</div>"
      ],
      "text/plain": [
       "   Unnamed: 0  id       Date          time_stamp    City  Fees_one_way  traf  \\\n",
       "0           0  37 2023-01-08 2023-11-11 08:31:14  city B           200   765   \n",
       "1           1  44 2023-01-08 2023-11-11 01:31:14  city B            50   765   \n",
       "2           2  33 2023-01-09 2023-11-11 12:31:14  city B           150   676   \n",
       "3           3  49 2023-04-04 2023-11-11 06:31:14  city B           150   652   \n",
       "\n",
       "  Vehicle  Number_of_Accidents  Number_of_Vehicles         Season toll  \\\n",
       "0   Truck                    4                 223       festival   t1   \n",
       "1    Bike                    1                 542  Summer Season   t1   \n",
       "2     Car                    1                 676   Rainy Season   t1   \n",
       "3     Bus                    1                 652  Summer Season   t1   \n",
       "\n",
       "   operational cost  maintainence cost  month  hour  revenu  \n",
       "0              8000               3785      1     8   44600  \n",
       "1              8000               2849      1     1   27100  \n",
       "2              8000               2025      1    12  101400  \n",
       "3              8000               3424      4     6   97800  "
      ]
     },
     "execution_count": 19,
     "metadata": {},
     "output_type": "execute_result"
    }
   ],
   "source": [
    "df.head(4)"
   ]
  },
  {
   "cell_type": "code",
   "execution_count": 20,
   "id": "516288be",
   "metadata": {},
   "outputs": [
    {
     "data": {
      "text/html": [
       "<div>\n",
       "<style scoped>\n",
       "    .dataframe tbody tr th:only-of-type {\n",
       "        vertical-align: middle;\n",
       "    }\n",
       "\n",
       "    .dataframe tbody tr th {\n",
       "        vertical-align: top;\n",
       "    }\n",
       "\n",
       "    .dataframe thead th {\n",
       "        text-align: right;\n",
       "    }\n",
       "</style>\n",
       "<table border=\"1\" class=\"dataframe\">\n",
       "  <thead>\n",
       "    <tr style=\"text-align: right;\">\n",
       "      <th></th>\n",
       "      <th>Season</th>\n",
       "      <th>traf</th>\n",
       "      <th>revenu</th>\n",
       "    </tr>\n",
       "  </thead>\n",
       "  <tbody>\n",
       "    <tr>\n",
       "      <th>1</th>\n",
       "      <td>Rainy Season</td>\n",
       "      <td>30190</td>\n",
       "      <td>3296600</td>\n",
       "    </tr>\n",
       "    <tr>\n",
       "      <th>2</th>\n",
       "      <td>Summer Season</td>\n",
       "      <td>16113</td>\n",
       "      <td>1420500</td>\n",
       "    </tr>\n",
       "    <tr>\n",
       "      <th>4</th>\n",
       "      <td>festival</td>\n",
       "      <td>7900</td>\n",
       "      <td>657200</td>\n",
       "    </tr>\n",
       "    <tr>\n",
       "      <th>3</th>\n",
       "      <td>Winter Season</td>\n",
       "      <td>6906</td>\n",
       "      <td>599500</td>\n",
       "    </tr>\n",
       "    <tr>\n",
       "      <th>0</th>\n",
       "      <td>Winter Season</td>\n",
       "      <td>200</td>\n",
       "      <td>20000</td>\n",
       "    </tr>\n",
       "  </tbody>\n",
       "</table>\n",
       "</div>"
      ],
      "text/plain": [
       "                 Season   traf   revenu\n",
       "1          Rainy Season  30190  3296600\n",
       "2         Summer Season  16113  1420500\n",
       "4              festival   7900   657200\n",
       "3         Winter Season   6906   599500\n",
       "0         Winter Season    200    20000"
      ]
     },
     "execution_count": 20,
     "metadata": {},
     "output_type": "execute_result"
    }
   ],
   "source": [
    "d=df.groupby('Season')[['traf','revenu']].sum().reset_index().sort_values(by='traf',ascending=False)\n",
    "d"
   ]
  },
  {
   "cell_type": "code",
   "execution_count": 21,
   "id": "bb15928b",
   "metadata": {},
   "outputs": [
    {
     "name": "stderr",
     "output_type": "stream",
     "text": [
      "C:\\Users\\lnxhunt\\AppData\\Local\\Temp\\ipykernel_976\\105433661.py:4: FutureWarning: \n",
      "\n",
      "The `ci` parameter is deprecated. Use `errorbar=None` for the same effect.\n",
      "\n",
      "  h = sns.barplot(x='Season', y='traf', data=d, ax=axs[0], ci=None)\n",
      "C:\\Users\\lnxhunt\\anaconda3\\lib\\site-packages\\seaborn\\_oldcore.py:1498: FutureWarning: is_categorical_dtype is deprecated and will be removed in a future version. Use isinstance(dtype, CategoricalDtype) instead\n",
      "  if pd.api.types.is_categorical_dtype(vector):\n",
      "C:\\Users\\lnxhunt\\anaconda3\\lib\\site-packages\\seaborn\\_oldcore.py:1498: FutureWarning: is_categorical_dtype is deprecated and will be removed in a future version. Use isinstance(dtype, CategoricalDtype) instead\n",
      "  if pd.api.types.is_categorical_dtype(vector):\n",
      "C:\\Users\\lnxhunt\\anaconda3\\lib\\site-packages\\seaborn\\_oldcore.py:1498: FutureWarning: is_categorical_dtype is deprecated and will be removed in a future version. Use isinstance(dtype, CategoricalDtype) instead\n",
      "  if pd.api.types.is_categorical_dtype(vector):\n",
      "C:\\Users\\lnxhunt\\anaconda3\\lib\\site-packages\\seaborn\\_oldcore.py:1498: FutureWarning: is_categorical_dtype is deprecated and will be removed in a future version. Use isinstance(dtype, CategoricalDtype) instead\n",
      "  if pd.api.types.is_categorical_dtype(vector):\n",
      "C:\\Users\\lnxhunt\\anaconda3\\lib\\site-packages\\seaborn\\_oldcore.py:1498: FutureWarning: is_categorical_dtype is deprecated and will be removed in a future version. Use isinstance(dtype, CategoricalDtype) instead\n",
      "  if pd.api.types.is_categorical_dtype(vector):\n",
      "C:\\Users\\lnxhunt\\anaconda3\\lib\\site-packages\\seaborn\\_oldcore.py:1498: FutureWarning: is_categorical_dtype is deprecated and will be removed in a future version. Use isinstance(dtype, CategoricalDtype) instead\n",
      "  if pd.api.types.is_categorical_dtype(vector):\n",
      "C:\\Users\\lnxhunt\\anaconda3\\lib\\site-packages\\seaborn\\_oldcore.py:1119: FutureWarning: use_inf_as_na option is deprecated and will be removed in a future version. Convert inf values to NaN before operating instead.\n",
      "  with pd.option_context('mode.use_inf_as_na', True):\n",
      "C:\\Users\\lnxhunt\\anaconda3\\lib\\site-packages\\seaborn\\_oldcore.py:1119: FutureWarning: use_inf_as_na option is deprecated and will be removed in a future version. Convert inf values to NaN before operating instead.\n",
      "  with pd.option_context('mode.use_inf_as_na', True):\n",
      "C:\\Users\\lnxhunt\\AppData\\Local\\Temp\\ipykernel_976\\105433661.py:12: UserWarning: set_ticklabels() should only be used with a fixed number of ticks, i.e. after set_ticks() or using a FixedLocator.\n",
      "  l.set_xticklabels(l.get_xticklabels(), rotation=90)\n"
     ]
    },
    {
     "data": {
      "text/plain": [
       "[Text(0, 0, 'Rainy Season'),\n",
       " Text(1, 0, 'Summer Season'),\n",
       " Text(2, 0, 'festival'),\n",
       " Text(3, 0, 'Winter Season'),\n",
       " Text(4, 0, '       Winter Season')]"
      ]
     },
     "execution_count": 21,
     "metadata": {},
     "output_type": "execute_result"
    },
    {
     "data": {
      "image/png": "[encoded data removed]",
      "text/plain": [
       "<Figure size 1000x500 with 2 Axes>"
      ]
     },
     "metadata": {},
     "output_type": "display_data"
    }
   ],
   "source": [
    "fig, axs = plt.subplots(ncols=2, figsize=(10, 5))\n",
    "fig.subplots_adjust(wspace=0.3)\n",
    "\n",
    "h = sns.barplot(x='Season', y='traf', data=d, ax=axs[0], ci=None)\n",
    "h.set_xticklabels(h.get_xticklabels(), rotation=90)\n",
    "for i in h.containers:\n",
    "    h.bar_label(i)\n",
    "\n",
    "    \n",
    "    \n",
    "l = sns.lineplot(x='Season', y='revenu', data=d, ax=axs[1])\n",
    "l.set_xticklabels(l.get_xticklabels(), rotation=90)\n",
    "\n"
   ]
  },
  {
   "cell_type": "markdown",
   "id": "79a4bcc4",
   "metadata": {},
   "source": [
    "# What steps would you recommend for implementing a dynamic pricing model\n",
    "that adjusts toll rates based on real-time traffic conditions and demand fluctuations?"
   ]
  },
  {
   "cell_type": "code",
   "execution_count": 22,
   "id": "c2df579e",
   "metadata": {},
   "outputs": [
    {
     "data": {
      "text/html": [
       "<div>\n",
       "<style scoped>\n",
       "    .dataframe tbody tr th:only-of-type {\n",
       "        vertical-align: middle;\n",
       "    }\n",
       "\n",
       "    .dataframe tbody tr th {\n",
       "        vertical-align: top;\n",
       "    }\n",
       "\n",
       "    .dataframe thead th {\n",
       "        text-align: right;\n",
       "    }\n",
       "</style>\n",
       "<table border=\"1\" class=\"dataframe\">\n",
       "  <thead>\n",
       "    <tr style=\"text-align: right;\">\n",
       "      <th></th>\n",
       "      <th>Unnamed: 0</th>\n",
       "      <th>id</th>\n",
       "      <th>Date</th>\n",
       "      <th>time_stamp</th>\n",
       "      <th>City</th>\n",
       "      <th>Fees_one_way</th>\n",
       "      <th>traf</th>\n",
       "      <th>Vehicle</th>\n",
       "      <th>Number_of_Accidents</th>\n",
       "      <th>Number_of_Vehicles</th>\n",
       "      <th>Season</th>\n",
       "      <th>toll</th>\n",
       "      <th>operational cost</th>\n",
       "      <th>maintainence cost</th>\n",
       "      <th>month</th>\n",
       "      <th>hour</th>\n",
       "      <th>revenu</th>\n",
       "    </tr>\n",
       "  </thead>\n",
       "  <tbody>\n",
       "    <tr>\n",
       "      <th>0</th>\n",
       "      <td>0</td>\n",
       "      <td>37</td>\n",
       "      <td>2023-01-08</td>\n",
       "      <td>2023-11-11 08:31:14</td>\n",
       "      <td>city B</td>\n",
       "      <td>200</td>\n",
       "      <td>765</td>\n",
       "      <td>Truck</td>\n",
       "      <td>4</td>\n",
       "      <td>223</td>\n",
       "      <td>festival</td>\n",
       "      <td>t1</td>\n",
       "      <td>8000</td>\n",
       "      <td>3785</td>\n",
       "      <td>1</td>\n",
       "      <td>8</td>\n",
       "      <td>44600</td>\n",
       "    </tr>\n",
       "    <tr>\n",
       "      <th>1</th>\n",
       "      <td>1</td>\n",
       "      <td>44</td>\n",
       "      <td>2023-01-08</td>\n",
       "      <td>2023-11-11 01:31:14</td>\n",
       "      <td>city B</td>\n",
       "      <td>50</td>\n",
       "      <td>765</td>\n",
       "      <td>Bike</td>\n",
       "      <td>1</td>\n",
       "      <td>542</td>\n",
       "      <td>Summer Season</td>\n",
       "      <td>t1</td>\n",
       "      <td>8000</td>\n",
       "      <td>2849</td>\n",
       "      <td>1</td>\n",
       "      <td>1</td>\n",
       "      <td>27100</td>\n",
       "    </tr>\n",
       "    <tr>\n",
       "      <th>2</th>\n",
       "      <td>2</td>\n",
       "      <td>33</td>\n",
       "      <td>2023-01-09</td>\n",
       "      <td>2023-11-11 12:31:14</td>\n",
       "      <td>city B</td>\n",
       "      <td>150</td>\n",
       "      <td>676</td>\n",
       "      <td>Car</td>\n",
       "      <td>1</td>\n",
       "      <td>676</td>\n",
       "      <td>Rainy Season</td>\n",
       "      <td>t1</td>\n",
       "      <td>8000</td>\n",
       "      <td>2025</td>\n",
       "      <td>1</td>\n",
       "      <td>12</td>\n",
       "      <td>101400</td>\n",
       "    </tr>\n",
       "    <tr>\n",
       "      <th>3</th>\n",
       "      <td>3</td>\n",
       "      <td>49</td>\n",
       "      <td>2023-04-04</td>\n",
       "      <td>2023-11-11 06:31:14</td>\n",
       "      <td>city B</td>\n",
       "      <td>150</td>\n",
       "      <td>652</td>\n",
       "      <td>Bus</td>\n",
       "      <td>1</td>\n",
       "      <td>652</td>\n",
       "      <td>Summer Season</td>\n",
       "      <td>t1</td>\n",
       "      <td>8000</td>\n",
       "      <td>3424</td>\n",
       "      <td>4</td>\n",
       "      <td>6</td>\n",
       "      <td>97800</td>\n",
       "    </tr>\n",
       "  </tbody>\n",
       "</table>\n",
       "</div>"
      ],
      "text/plain": [
       "   Unnamed: 0  id       Date          time_stamp    City  Fees_one_way  traf  \\\n",
       "0           0  37 2023-01-08 2023-11-11 08:31:14  city B           200   765   \n",
       "1           1  44 2023-01-08 2023-11-11 01:31:14  city B            50   765   \n",
       "2           2  33 2023-01-09 2023-11-11 12:31:14  city B           150   676   \n",
       "3           3  49 2023-04-04 2023-11-11 06:31:14  city B           150   652   \n",
       "\n",
       "  Vehicle  Number_of_Accidents  Number_of_Vehicles         Season toll  \\\n",
       "0   Truck                    4                 223       festival   t1   \n",
       "1    Bike                    1                 542  Summer Season   t1   \n",
       "2     Car                    1                 676   Rainy Season   t1   \n",
       "3     Bus                    1                 652  Summer Season   t1   \n",
       "\n",
       "   operational cost  maintainence cost  month  hour  revenu  \n",
       "0              8000               3785      1     8   44600  \n",
       "1              8000               2849      1     1   27100  \n",
       "2              8000               2025      1    12  101400  \n",
       "3              8000               3424      4     6   97800  "
      ]
     },
     "execution_count": 22,
     "metadata": {},
     "output_type": "execute_result"
    }
   ],
   "source": [
    "df.head(4)"
   ]
  },
  {
   "cell_type": "code",
   "execution_count": 23,
   "id": "db008635",
   "metadata": {},
   "outputs": [
    {
     "data": {
      "text/plain": [
       "625.6020408163265"
      ]
     },
     "execution_count": 23,
     "metadata": {},
     "output_type": "execute_result"
    }
   ],
   "source": [
    "a=df['traf'].mean()\n",
    "a"
   ]
  },
  {
   "cell_type": "code",
   "execution_count": 24,
   "id": "28ac3cb3",
   "metadata": {},
   "outputs": [
    {
     "data": {
      "text/plain": [
       "Vehicle\n",
       "Bike      427900\n",
       "Bus      1257600\n",
       "Car      1159300\n",
       "Truck    3149000\n",
       "Name: revenu, dtype: int64"
      ]
     },
     "execution_count": 24,
     "metadata": {},
     "output_type": "execute_result"
    }
   ],
   "source": [
    "df.groupby('Vehicle')['revenu'].sum()"
   ]
  },
  {
   "cell_type": "code",
   "execution_count": 25,
   "id": "a45c989d",
   "metadata": {},
   "outputs": [
    {
     "data": {
      "text/plain": [
       "5993800"
      ]
     },
     "execution_count": 25,
     "metadata": {},
     "output_type": "execute_result"
    }
   ],
   "source": [
    "df['revenu'].sum()"
   ]
  },
  {
   "cell_type": "code",
   "execution_count": 26,
   "id": "d66a6cd8",
   "metadata": {},
   "outputs": [
    {
     "name": "stdout",
     "output_type": "stream",
     "text": [
      "toll revenue based on real-time high traffic conditions :->    93800590.0\n",
      "toll revenue based on real-time less traffic conditions :->     63594605.0\n"
     ]
    },
    {
     "data": {
      "image/png": "[encoded data removed]",
      "text/plain": [
       "<Figure size 640x480 with 1 Axes>"
      ]
     },
     "metadata": {},
     "output_type": "display_data"
    }
   ],
   "source": [
    "bus = []\n",
    "b1=[]\n",
    "total_hike = 0\n",
    "total_loss = 0\n",
    "\n",
    "\n",
    "for i, j in zip(df['traf'], df['Vehicle']):\n",
    "    if i >= df['traf'].mean():\n",
    "        if j == 'Bus':\n",
    "            bus.append( 1257600 * 1.10)\n",
    "        elif j == 'Car':\n",
    "            bus.append(1159300 * 1.15)\n",
    "        elif j == 'Truck':\n",
    "            bus.append(3149000 * 1.20)\n",
    "    elif i<=df['traf'].mean():\n",
    "        if j == 'Bus':\n",
    "            b1.append(1257600 * 0.9)\n",
    "        elif j == 'Car':\n",
    "            b1.append(1159300 * 0.85)\n",
    "        elif j == 'Truck':\n",
    "            b1.append(3149000* 0.8)\n",
    "for i in bus:\n",
    "    total_hike=total_hike+i\n",
    "for i in b1:\n",
    "    total_loss=total_loss+i\n",
    "print('toll revenue based on real-time high traffic conditions :->   ',total_hike)\n",
    "print('toll revenue based on real-time less traffic conditions :->    ',total_loss)\n",
    "\n",
    "\n",
    "height = [total_hike, total_loss]\n",
    "bars = ('High Traffic', 'Low Traffic')\n",
    "plt.bar(bars, height)\n",
    "plt.xlabel('Traffic Conditions')\n",
    "plt.ylabel('Total Revenue')\n",
    "plt.show()"
   ]
  },
  {
   "cell_type": "markdown",
   "id": "30d2a608",
   "metadata": {},
   "source": [
    "# How could you analyze the environmental impact of the\n",
    "new highway and integrate eco-friendly toll policies using Python's data analysis capabilities?"
   ]
  },
  {
   "cell_type": "markdown",
   "id": "9638fca4",
   "metadata": {},
   "source": [
    "We aim to analyze the environmental impact of the newly constructed highway. To achieve this, we will create a graph illustrating the relationship between traffic volume and seasons. The underlying hypothesis is that increased traffic leads to higher levels of pollution due to vehicle emissions, and potentially a higher incidence of accidents. This analysis will provide valuable insights into the environmental consequences of the new highway."
   ]
  },
  {
   "cell_type": "code",
   "execution_count": 27,
   "id": "b4bdb6d0",
   "metadata": {},
   "outputs": [
    {
     "data": {
      "text/html": [
       "<div>\n",
       "<style scoped>\n",
       "    .dataframe tbody tr th:only-of-type {\n",
       "        vertical-align: middle;\n",
       "    }\n",
       "\n",
       "    .dataframe tbody tr th {\n",
       "        vertical-align: top;\n",
       "    }\n",
       "\n",
       "    .dataframe thead th {\n",
       "        text-align: right;\n",
       "    }\n",
       "</style>\n",
       "<table border=\"1\" class=\"dataframe\">\n",
       "  <thead>\n",
       "    <tr style=\"text-align: right;\">\n",
       "      <th></th>\n",
       "      <th>Season</th>\n",
       "      <th>traf</th>\n",
       "      <th>Number_of_Accidents</th>\n",
       "    </tr>\n",
       "  </thead>\n",
       "  <tbody>\n",
       "    <tr>\n",
       "      <th>1</th>\n",
       "      <td>Rainy Season</td>\n",
       "      <td>30190</td>\n",
       "      <td>58</td>\n",
       "    </tr>\n",
       "    <tr>\n",
       "      <th>2</th>\n",
       "      <td>Summer Season</td>\n",
       "      <td>16113</td>\n",
       "      <td>35</td>\n",
       "    </tr>\n",
       "    <tr>\n",
       "      <th>4</th>\n",
       "      <td>festival</td>\n",
       "      <td>7900</td>\n",
       "      <td>23</td>\n",
       "    </tr>\n",
       "    <tr>\n",
       "      <th>3</th>\n",
       "      <td>Winter Season</td>\n",
       "      <td>6906</td>\n",
       "      <td>14</td>\n",
       "    </tr>\n",
       "    <tr>\n",
       "      <th>0</th>\n",
       "      <td>Winter Season</td>\n",
       "      <td>200</td>\n",
       "      <td>1</td>\n",
       "    </tr>\n",
       "  </tbody>\n",
       "</table>\n",
       "</div>"
      ],
      "text/plain": [
       "                 Season   traf  Number_of_Accidents\n",
       "1          Rainy Season  30190                   58\n",
       "2         Summer Season  16113                   35\n",
       "4              festival   7900                   23\n",
       "3         Winter Season   6906                   14\n",
       "0         Winter Season    200                    1"
      ]
     },
     "execution_count": 27,
     "metadata": {},
     "output_type": "execute_result"
    }
   ],
   "source": [
    "g=df.groupby('Season')[['traf','Number_of_Accidents']].sum().reset_index().sort_values(by='traf',ascending=False)\n",
    "g"
   ]
  },
  {
   "cell_type": "code",
   "execution_count": 28,
   "id": "d38167e3",
   "metadata": {},
   "outputs": [
    {
     "name": "stderr",
     "output_type": "stream",
     "text": [
      "C:\\Users\\lnxhunt\\anaconda3\\lib\\site-packages\\seaborn\\_oldcore.py:1498: FutureWarning: is_categorical_dtype is deprecated and will be removed in a future version. Use isinstance(dtype, CategoricalDtype) instead\n",
      "  if pd.api.types.is_categorical_dtype(vector):\n",
      "C:\\Users\\lnxhunt\\anaconda3\\lib\\site-packages\\seaborn\\_oldcore.py:1498: FutureWarning: is_categorical_dtype is deprecated and will be removed in a future version. Use isinstance(dtype, CategoricalDtype) instead\n",
      "  if pd.api.types.is_categorical_dtype(vector):\n",
      "C:\\Users\\lnxhunt\\anaconda3\\lib\\site-packages\\seaborn\\_oldcore.py:1498: FutureWarning: is_categorical_dtype is deprecated and will be removed in a future version. Use isinstance(dtype, CategoricalDtype) instead\n",
      "  if pd.api.types.is_categorical_dtype(vector):\n",
      "C:\\Users\\lnxhunt\\anaconda3\\lib\\site-packages\\seaborn\\_oldcore.py:1498: FutureWarning: is_categorical_dtype is deprecated and will be removed in a future version. Use isinstance(dtype, CategoricalDtype) instead\n",
      "  if pd.api.types.is_categorical_dtype(vector):\n"
     ]
    },
    {
     "data": {
      "image/png": "[encoded data removed]",
      "text/plain": [
       "<Figure size 640x480 with 1 Axes>"
      ]
     },
     "metadata": {},
     "output_type": "display_data"
    }
   ],
   "source": [
    "\n",
    "sns.scatterplot(data=g, x='Season', y='traf', size='Number_of_Accidents', sizes=(20, 200))\n",
    "\n",
    "plt.title('Traffic and Number of Accidents per Season')\n",
    "plt.xlabel('Season')\n",
    "plt.ylabel('Traffic')\n",
    "\n",
    "plt.show()\n"
   ]
  },
  {
   "cell_type": "markdown",
   "id": "c14cdbc1",
   "metadata": {},
   "source": [
    "# What strategies could be employed to ensure transparency and accountability in\n",
    "toll collection procedures, minimizing the potential for revenue mismanagement or discrepancies?"
   ]
  },
  {
   "cell_type": "markdown",
   "id": "1a445f40",
   "metadata": {},
   "source": [
    "Here are some strategies to ensure transparency and accountability in toll collection procedures:\n",
    "\n",
    "- Implement auditing procedures to regularly review toll revenue collection, reconciliation, and accounting. Conduct both internal and third-party audits.\n",
    "\n",
    "- Automate toll collection processes as much as possible to minimize manual errors or manipulation. For example, use electronic toll collection rather than cash.\n",
    "\n",
    "- Publish regular reports on toll revenue collection and expenditures. Provide transparency into how toll revenues are being used.\n",
    "\n",
    "- Use video monitoring at toll collection points to review procedures and identify any potential issues.\n",
    "\n",
    "- Establish strong internal controls around cash handling if cash tolls are collected. Ensure separation of duties between collections, reconciliation, and accounting.\n",
    "\n",
    "- Implement chain of custody procedures for transferring and transporting cash receipts. Require documented hand-offs between responsible parties.\n",
    "\n",
    "- Require thorough documentation and record keeping for all toll collection and accounting transactions. Maintain detailed logs of toll activity. \n",
    "\n",
    "- Set up protocols for investigating and resolving any revenue discrepancies that arise. Document investigative procedures and corrective actions.\n",
    "\n",
    "- Rotate toll collector staff on a regular basis to minimize potential collusion in any discrepancies.\n",
    "\n",
    "- Establish a clear code of ethics for toll agency staff. Provide fraud awareness training.\n",
    "\n",
    "- Create a confidential hotline for internal or public reporting of any suspected misconduct in toll procedures. Investigate all reports.\n",
    "\n",
    "The key is to remove opportunities for discrepancies through automation, oversight, and strong documentation practices. Ongoing auditing and transparent reporting also helps reveal any irregularities that need to be addressed."
   ]
  },
  {
   "cell_type": "markdown",
   "id": "03d64ea2",
   "metadata": {},
   "source": [
    "# How would you leverage Python's statistical tools to identify any correlations between toll prices, vehicle types,\n",
    "and the frequency of highway usage, aiding in the development of targeted pricing structures?"
   ]
  },
  {
   "cell_type": "code",
   "execution_count": 29,
   "id": "ea3866d7",
   "metadata": {},
   "outputs": [
    {
     "data": {
      "text/plain": [
       "array(['Truck', 'Bike', 'Car', 'Bus'], dtype=object)"
      ]
     },
     "execution_count": 29,
     "metadata": {},
     "output_type": "execute_result"
    }
   ],
   "source": [
    "df['Vehicle'].unique()"
   ]
  },
  {
   "cell_type": "code",
   "execution_count": 30,
   "id": "4ce37834",
   "metadata": {},
   "outputs": [],
   "source": [
    "df['Vehicle'] = df['Vehicle'].replace({'Truck': '0', 'Bike': '0.1', 'Car': '0.2', 'Bus': '0.3'})\n"
   ]
  },
  {
   "cell_type": "code",
   "execution_count": 31,
   "id": "d1e2a323",
   "metadata": {},
   "outputs": [],
   "source": [
    "f=df.groupby('Vehicle')[['Fees_one_way','traf','revenu']].count().reset_index()"
   ]
  },
  {
   "cell_type": "code",
   "execution_count": 32,
   "id": "ad88211d",
   "metadata": {},
   "outputs": [
    {
     "data": {
      "text/html": [
       "<div>\n",
       "<style scoped>\n",
       "    .dataframe tbody tr th:only-of-type {\n",
       "        vertical-align: middle;\n",
       "    }\n",
       "\n",
       "    .dataframe tbody tr th {\n",
       "        vertical-align: top;\n",
       "    }\n",
       "\n",
       "    .dataframe thead th {\n",
       "        text-align: right;\n",
       "    }\n",
       "</style>\n",
       "<table border=\"1\" class=\"dataframe\">\n",
       "  <thead>\n",
       "    <tr style=\"text-align: right;\">\n",
       "      <th></th>\n",
       "      <th>Vehicle</th>\n",
       "      <th>Fees_one_way</th>\n",
       "      <th>traf</th>\n",
       "      <th>revenu</th>\n",
       "    </tr>\n",
       "  </thead>\n",
       "  <tbody>\n",
       "    <tr>\n",
       "      <th>Vehicle</th>\n",
       "      <td>1.000000</td>\n",
       "      <td>-0.774597</td>\n",
       "      <td>-0.774597</td>\n",
       "      <td>-0.774597</td>\n",
       "    </tr>\n",
       "    <tr>\n",
       "      <th>Fees_one_way</th>\n",
       "      <td>-0.774597</td>\n",
       "      <td>1.000000</td>\n",
       "      <td>1.000000</td>\n",
       "      <td>1.000000</td>\n",
       "    </tr>\n",
       "    <tr>\n",
       "      <th>traf</th>\n",
       "      <td>-0.774597</td>\n",
       "      <td>1.000000</td>\n",
       "      <td>1.000000</td>\n",
       "      <td>1.000000</td>\n",
       "    </tr>\n",
       "    <tr>\n",
       "      <th>revenu</th>\n",
       "      <td>-0.774597</td>\n",
       "      <td>1.000000</td>\n",
       "      <td>1.000000</td>\n",
       "      <td>1.000000</td>\n",
       "    </tr>\n",
       "  </tbody>\n",
       "</table>\n",
       "</div>"
      ],
      "text/plain": [
       "               Vehicle  Fees_one_way      traf    revenu\n",
       "Vehicle       1.000000     -0.774597 -0.774597 -0.774597\n",
       "Fees_one_way -0.774597      1.000000  1.000000  1.000000\n",
       "traf         -0.774597      1.000000  1.000000  1.000000\n",
       "revenu       -0.774597      1.000000  1.000000  1.000000"
      ]
     },
     "execution_count": 32,
     "metadata": {},
     "output_type": "execute_result"
    }
   ],
   "source": [
    "f.corr()"
   ]
  },
  {
   "cell_type": "code",
   "execution_count": 34,
   "id": "cd9dd225",
   "metadata": {},
   "outputs": [
    {
     "data": {
      "text/plain": [
       "<Axes: >"
      ]
     },
     "execution_count": 34,
     "metadata": {},
     "output_type": "execute_result"
    },
    {
     "data": {
      "image/png": "[encoded data removed]",
      "text/plain": [
       "<Figure size 640x480 with 2 Axes>"
      ]
     },
     "metadata": {},
     "output_type": "display_data"
    }
   ],
   "source": [
    "sns.heatmap(f.corr(), annot=True)"
   ]
  },
  {
   "cell_type": "markdown",
   "id": "941d8387",
   "metadata": {},
   "source": [
    "Vehicle is perfectly negatively correlated with Fees_one_way, traf, and revenue (correlation of -1)\n",
    "Fees_one_way is perfectly positively correlated with traf and revenue (correlation of 1)\n",
    "traf is perfectly positively correlated with revenue (correlation of 1)\n",
    "This suggests:\n",
    "\n",
    "As Vehicle type increases, Fees_one_way, traf, and revenue decrease\n",
    "Fees_one_way is positively related to traf and revenue. When Fees increase, traf and revenue also increase.\n",
    "traf and revenue have a very strong positive correlation. As traffic volume increases, toll revenue also increases.\n",
    "So in summary:\n",
    "\n",
    "Higher vehicle types (Truck > Car > Bus > Bike) are associated with lower Fees, traffic, and revenue\n",
    "Increasing toll Fees is correlated with increased traffic and higher revenue\n",
    "Traffic volume and revenue have a very strong positive relationship\n",
    "These insights can help inform pricing decisions - increasing Fees for heavier vehicle types may increase traffic and revenue. The data also validates the strong link between traffic volume and revenue.\n",
    "\n",
    "We would still want to analyze with statistical tests and modeling to quantify the relationships. But this correlation matrix provides a useful starting point for understanding the interactions."
   ]
  },
  {
   "cell_type": "markdown",
   "id": "3692fde2",
   "metadata": {},
   "source": [
    "# How might you utilize Python to conduct a cost analysis of the toll collection process, \n",
    "taking into account operational expenses and maintenance costs for each toll booth?\n"
   ]
  },
  {
   "cell_type": "code",
   "execution_count": 51,
   "id": "34266a2f",
   "metadata": {},
   "outputs": [
    {
     "data": {
      "text/html": [
       "<div>\n",
       "<style scoped>\n",
       "    .dataframe tbody tr th:only-of-type {\n",
       "        vertical-align: middle;\n",
       "    }\n",
       "\n",
       "    .dataframe tbody tr th {\n",
       "        vertical-align: top;\n",
       "    }\n",
       "\n",
       "    .dataframe thead th {\n",
       "        text-align: right;\n",
       "    }\n",
       "</style>\n",
       "<table border=\"1\" class=\"dataframe\">\n",
       "  <thead>\n",
       "    <tr style=\"text-align: right;\">\n",
       "      <th></th>\n",
       "      <th>Unnamed: 0</th>\n",
       "      <th>id</th>\n",
       "      <th>Date</th>\n",
       "      <th>time_stamp</th>\n",
       "      <th>City</th>\n",
       "      <th>Fees_one_way</th>\n",
       "      <th>traf</th>\n",
       "      <th>Vehicle</th>\n",
       "      <th>Number_of_Accidents</th>\n",
       "      <th>Number_of_Vehicles</th>\n",
       "      <th>Season</th>\n",
       "      <th>toll</th>\n",
       "      <th>operational cost</th>\n",
       "      <th>maintainence cost</th>\n",
       "      <th>month</th>\n",
       "      <th>hour</th>\n",
       "      <th>revenu</th>\n",
       "    </tr>\n",
       "  </thead>\n",
       "  <tbody>\n",
       "    <tr>\n",
       "      <th>0</th>\n",
       "      <td>0</td>\n",
       "      <td>37</td>\n",
       "      <td>2023-01-08</td>\n",
       "      <td>2023-11-11 08:31:14</td>\n",
       "      <td>city B</td>\n",
       "      <td>200</td>\n",
       "      <td>765</td>\n",
       "      <td>0</td>\n",
       "      <td>4</td>\n",
       "      <td>223</td>\n",
       "      <td>festival</td>\n",
       "      <td>t1</td>\n",
       "      <td>8000</td>\n",
       "      <td>3785</td>\n",
       "      <td>1</td>\n",
       "      <td>8</td>\n",
       "      <td>44600</td>\n",
       "    </tr>\n",
       "    <tr>\n",
       "      <th>1</th>\n",
       "      <td>1</td>\n",
       "      <td>44</td>\n",
       "      <td>2023-01-08</td>\n",
       "      <td>2023-11-11 01:31:14</td>\n",
       "      <td>city B</td>\n",
       "      <td>50</td>\n",
       "      <td>765</td>\n",
       "      <td>0.1</td>\n",
       "      <td>1</td>\n",
       "      <td>542</td>\n",
       "      <td>Summer Season</td>\n",
       "      <td>t1</td>\n",
       "      <td>8000</td>\n",
       "      <td>2849</td>\n",
       "      <td>1</td>\n",
       "      <td>1</td>\n",
       "      <td>27100</td>\n",
       "    </tr>\n",
       "  </tbody>\n",
       "</table>\n",
       "</div>"
      ],
      "text/plain": [
       "   Unnamed: 0  id       Date          time_stamp    City  Fees_one_way  traf  \\\n",
       "0           0  37 2023-01-08 2023-11-11 08:31:14  city B           200   765   \n",
       "1           1  44 2023-01-08 2023-11-11 01:31:14  city B            50   765   \n",
       "\n",
       "  Vehicle  Number_of_Accidents  Number_of_Vehicles         Season toll  \\\n",
       "0       0                    4                 223       festival   t1   \n",
       "1     0.1                    1                 542  Summer Season   t1   \n",
       "\n",
       "   operational cost  maintainence cost  month  hour  revenu  \n",
       "0              8000               3785      1     8   44600  \n",
       "1              8000               2849      1     1   27100  "
      ]
     },
     "execution_count": 51,
     "metadata": {},
     "output_type": "execute_result"
    }
   ],
   "source": [
    "df.head(2)"
   ]
  },
  {
   "cell_type": "code",
   "execution_count": 58,
   "id": "c0f40701",
   "metadata": {},
   "outputs": [],
   "source": [
    "df['total_cost']=df['operational cost']+df['maintainence cost']"
   ]
  },
  {
   "cell_type": "code",
   "execution_count": 70,
   "id": "200db1c9",
   "metadata": {},
   "outputs": [
    {
     "data": {
      "text/html": [
       "<div>\n",
       "<style scoped>\n",
       "    .dataframe tbody tr th:only-of-type {\n",
       "        vertical-align: middle;\n",
       "    }\n",
       "\n",
       "    .dataframe tbody tr th {\n",
       "        vertical-align: top;\n",
       "    }\n",
       "\n",
       "    .dataframe thead th {\n",
       "        text-align: right;\n",
       "    }\n",
       "</style>\n",
       "<table border=\"1\" class=\"dataframe\">\n",
       "  <thead>\n",
       "    <tr style=\"text-align: right;\">\n",
       "      <th></th>\n",
       "      <th>toll</th>\n",
       "      <th>total_cost</th>\n",
       "    </tr>\n",
       "  </thead>\n",
       "  <tbody>\n",
       "    <tr>\n",
       "      <th>3</th>\n",
       "      <td>t4</td>\n",
       "      <td>463879</td>\n",
       "    </tr>\n",
       "    <tr>\n",
       "      <th>1</th>\n",
       "      <td>t2</td>\n",
       "      <td>384550</td>\n",
       "    </tr>\n",
       "    <tr>\n",
       "      <th>0</th>\n",
       "      <td>t1</td>\n",
       "      <td>229026</td>\n",
       "    </tr>\n",
       "    <tr>\n",
       "      <th>2</th>\n",
       "      <td>t3</td>\n",
       "      <td>142622</td>\n",
       "    </tr>\n",
       "  </tbody>\n",
       "</table>\n",
       "</div>"
      ],
      "text/plain": [
       "  toll  total_cost\n",
       "3   t4      463879\n",
       "1   t2      384550\n",
       "0   t1      229026\n",
       "2   t3      142622"
      ]
     },
     "execution_count": 70,
     "metadata": {},
     "output_type": "execute_result"
    }
   ],
   "source": [
    "a=df.groupby('toll')['total_cost'].sum().reset_index().sort_values(by='total_cost',ascending=False)\n",
    "a"
   ]
  },
  {
   "cell_type": "code",
   "execution_count": 69,
   "id": "36f7ae41",
   "metadata": {},
   "outputs": [
    {
     "data": {
      "text/html": [
       "<div>\n",
       "<style scoped>\n",
       "    .dataframe tbody tr th:only-of-type {\n",
       "        vertical-align: middle;\n",
       "    }\n",
       "\n",
       "    .dataframe tbody tr th {\n",
       "        vertical-align: top;\n",
       "    }\n",
       "\n",
       "    .dataframe thead th {\n",
       "        text-align: right;\n",
       "    }\n",
       "</style>\n",
       "<table border=\"1\" class=\"dataframe\">\n",
       "  <thead>\n",
       "    <tr style=\"text-align: right;\">\n",
       "      <th></th>\n",
       "      <th>Season</th>\n",
       "      <th>revenu</th>\n",
       "    </tr>\n",
       "  </thead>\n",
       "  <tbody>\n",
       "    <tr>\n",
       "      <th>1</th>\n",
       "      <td>Rainy Season</td>\n",
       "      <td>3296600</td>\n",
       "    </tr>\n",
       "    <tr>\n",
       "      <th>2</th>\n",
       "      <td>Summer Season</td>\n",
       "      <td>1420500</td>\n",
       "    </tr>\n",
       "    <tr>\n",
       "      <th>4</th>\n",
       "      <td>festival</td>\n",
       "      <td>657200</td>\n",
       "    </tr>\n",
       "    <tr>\n",
       "      <th>3</th>\n",
       "      <td>Winter Season</td>\n",
       "      <td>599500</td>\n",
       "    </tr>\n",
       "    <tr>\n",
       "      <th>0</th>\n",
       "      <td>Winter Season</td>\n",
       "      <td>20000</td>\n",
       "    </tr>\n",
       "  </tbody>\n",
       "</table>\n",
       "</div>"
      ],
      "text/plain": [
       "                 Season   revenu\n",
       "1          Rainy Season  3296600\n",
       "2         Summer Season  1420500\n",
       "4              festival   657200\n",
       "3         Winter Season   599500\n",
       "0         Winter Season    20000"
      ]
     },
     "execution_count": 69,
     "metadata": {},
     "output_type": "execute_result"
    }
   ],
   "source": [
    "b=df.groupby('Season')['revenu'].sum().reset_index().sort_values(by='revenu',ascending=False)\n",
    "b"
   ]
  },
  {
   "cell_type": "code",
   "execution_count": null,
   "id": "9e17b4b3",
   "metadata": {},
   "outputs": [],
   "source": []
  },
  {
   "cell_type": "code",
   "execution_count": null,
   "id": "1a6d7258",
   "metadata": {},
   "outputs": [],
   "source": []
  }
 ],
 "metadata": {
  "kernelspec": {
   "display_name": "Python 3 (ipykernel)",
   "language": "python",
   "name": "python3"
  },
  "language_info": {
   "codemirror_mode": {
    "name": "ipython",
    "version": 3
   },
   "file_extension": ".py",
   "mimetype": "text/x-python",
   "name": "python",
   "nbconvert_exporter": "python",
   "pygments_lexer": "ipython3",
   "version": "3.10.13"
  }
 },
 "nbformat": 4,
 "nbformat_minor": 5
}
